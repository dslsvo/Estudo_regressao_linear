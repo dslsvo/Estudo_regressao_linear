{
 "cells": [
  {
   "cell_type": "markdown",
   "id": "682138b2",
   "metadata": {},
   "source": [
    "# Regressão Linear\n",
    "#### Exercício Reprodução do canal Data Viking"
   ]
  },
  {
   "cell_type": "markdown",
   "id": "841425bf",
   "metadata": {},
   "source": [
    "### Entendendo o case:"
   ]
  },
  {
   "cell_type": "raw",
   "id": "c06f3854",
   "metadata": {},
   "source": [
    "Trabalhar uma base de dados (com dados fictícios) de uma instituição financeira que possua duas informações para clientes: \n",
    "     • salário \n",
    "     • limite de empréstimo\n",
    "A ideia é treinar o modelo usando essas duas variáveis e depois prever qual seria o limite de c´redito para as pessoas com base no salário delas."
   ]
  },
  {
   "cell_type": "code",
   "execution_count": 2,
   "id": "e706e886",
   "metadata": {},
   "outputs": [],
   "source": [
    "#Importando bibliotecas\n",
    "\n",
    "import pandas as pd\n",
    "import numpy as np\n",
    "import matplotlib.pyplot as plt\n",
    "import seaborn as sns"
   ]
  },
  {
   "cell_type": "code",
   "execution_count": 6,
   "id": "e3b60a48",
   "metadata": {},
   "outputs": [
    {
     "data": {
      "text/html": [
       "<div>\n",
       "<style scoped>\n",
       "    .dataframe tbody tr th:only-of-type {\n",
       "        vertical-align: middle;\n",
       "    }\n",
       "\n",
       "    .dataframe tbody tr th {\n",
       "        vertical-align: top;\n",
       "    }\n",
       "\n",
       "    .dataframe thead th {\n",
       "        text-align: right;\n",
       "    }\n",
       "</style>\n",
       "<table border=\"1\" class=\"dataframe\">\n",
       "  <thead>\n",
       "    <tr style=\"text-align: right;\">\n",
       "      <th></th>\n",
       "      <th>Salario</th>\n",
       "      <th>Limite_Emprestimo</th>\n",
       "    </tr>\n",
       "  </thead>\n",
       "  <tbody>\n",
       "    <tr>\n",
       "      <th>0</th>\n",
       "      <td>1250.219130</td>\n",
       "      <td>2900.124323</td>\n",
       "    </tr>\n",
       "    <tr>\n",
       "      <th>1</th>\n",
       "      <td>1262.721321</td>\n",
       "      <td>2929.125566</td>\n",
       "    </tr>\n",
       "    <tr>\n",
       "      <th>2</th>\n",
       "      <td>1275.348535</td>\n",
       "      <td>2958.416822</td>\n",
       "    </tr>\n",
       "    <tr>\n",
       "      <th>3</th>\n",
       "      <td>1288.102020</td>\n",
       "      <td>2988.000990</td>\n",
       "    </tr>\n",
       "    <tr>\n",
       "      <th>4</th>\n",
       "      <td>1300.983040</td>\n",
       "      <td>3017.881000</td>\n",
       "    </tr>\n",
       "    <tr>\n",
       "      <th>...</th>\n",
       "      <td>...</td>\n",
       "      <td>...</td>\n",
       "    </tr>\n",
       "    <tr>\n",
       "      <th>94</th>\n",
       "      <td>3185.629581</td>\n",
       "      <td>7279.937858</td>\n",
       "    </tr>\n",
       "    <tr>\n",
       "      <th>95</th>\n",
       "      <td>3217.485877</td>\n",
       "      <td>7315.799621</td>\n",
       "    </tr>\n",
       "    <tr>\n",
       "      <th>96</th>\n",
       "      <td>3249.660736</td>\n",
       "      <td>7351.661384</td>\n",
       "    </tr>\n",
       "    <tr>\n",
       "      <th>97</th>\n",
       "      <td>3282.157343</td>\n",
       "      <td>7387.523147</td>\n",
       "    </tr>\n",
       "    <tr>\n",
       "      <th>98</th>\n",
       "      <td>3314.978916</td>\n",
       "      <td>7423.384910</td>\n",
       "    </tr>\n",
       "  </tbody>\n",
       "</table>\n",
       "<p>99 rows × 2 columns</p>\n",
       "</div>"
      ],
      "text/plain": [
       "        Salario  Limite_Emprestimo\n",
       "0   1250.219130        2900.124323\n",
       "1   1262.721321        2929.125566\n",
       "2   1275.348535        2958.416822\n",
       "3   1288.102020        2988.000990\n",
       "4   1300.983040        3017.881000\n",
       "..          ...                ...\n",
       "94  3185.629581        7279.937858\n",
       "95  3217.485877        7315.799621\n",
       "96  3249.660736        7351.661384\n",
       "97  3282.157343        7387.523147\n",
       "98  3314.978916        7423.384910\n",
       "\n",
       "[99 rows x 2 columns]"
      ]
     },
     "execution_count": 6,
     "metadata": {},
     "output_type": "execute_result"
    }
   ],
   "source": [
    "#Importando o arquivo\n",
    "\n",
    "df = pd.read_excel('BaseDados_RegressaoLinear.xlsx', 'Plan1')\n",
    "df"
   ]
  },
  {
   "cell_type": "markdown",
   "id": "8ff4e2c8",
   "metadata": {},
   "source": [
    "# ANÁLISE EXPLORATÓRIA"
   ]
  },
  {
   "cell_type": "code",
   "execution_count": null,
   "id": "0c113df8",
   "metadata": {},
   "outputs": [],
   "source": []
  }
 ],
 "metadata": {
  "kernelspec": {
   "display_name": "Python 3 (ipykernel)",
   "language": "python",
   "name": "python3"
  },
  "language_info": {
   "codemirror_mode": {
    "name": "ipython",
    "version": 3
   },
   "file_extension": ".py",
   "mimetype": "text/x-python",
   "name": "python",
   "nbconvert_exporter": "python",
   "pygments_lexer": "ipython3",
   "version": "3.9.7"
  }
 },
 "nbformat": 4,
 "nbformat_minor": 5
}
