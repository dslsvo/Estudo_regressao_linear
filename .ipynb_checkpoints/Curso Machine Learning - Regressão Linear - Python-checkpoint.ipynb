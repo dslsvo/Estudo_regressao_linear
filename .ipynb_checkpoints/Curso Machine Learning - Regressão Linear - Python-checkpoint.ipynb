{
 "cells": [
  {
   "cell_type": "markdown",
   "id": "fa826f8d",
   "metadata": {},
   "source": [
    "# Regressão Linear"
   ]
  },
  {
   "cell_type": "markdown",
   "id": "f48ab185",
   "metadata": {},
   "source": [
    "### Entendendo o case:"
   ]
  },
  {
   "cell_type": "raw",
   "id": "8715adca",
   "metadata": {},
   "source": [
    "Trabalhar uma base de dados (com dados fictícios) de uma instituição financeira que possua duas informações para clientes: \n",
    "     • salário \n",
    "     • limite de empréstimo\n",
    "A ideia é treinar o modelo usando essas duas variáveis e depois prever qual seria o limite de c´redito para as pessoas com base no salário delas."
   ]
  },
  {
   "cell_type": "code",
   "execution_count": 2,
   "id": "c702d46f",
   "metadata": {},
   "outputs": [],
   "source": [
    "#Importando bibliotecas\n",
    "\n",
    "import pandas as pd\n",
    "import numpy as np\n",
    "import matplotlib.pyplot as plt\n",
    "import seaborn as sns"
   ]
  },
  {
   "cell_type": "code",
   "execution_count": 6,
   "id": "abe9a347",
   "metadata": {},
   "outputs": [
    {
     "data": {
      "text/html": [
       "<div>\n",
       "<style scoped>\n",
       "    .dataframe tbody tr th:only-of-type {\n",
       "        vertical-align: middle;\n",
       "    }\n",
       "\n",
       "    .dataframe tbody tr th {\n",
       "        vertical-align: top;\n",
       "    }\n",
       "\n",
       "    .dataframe thead th {\n",
       "        text-align: right;\n",
       "    }\n",
       "</style>\n",
       "<table border=\"1\" class=\"dataframe\">\n",
       "  <thead>\n",
       "    <tr style=\"text-align: right;\">\n",
       "      <th></th>\n",
       "      <th>Salario</th>\n",
       "      <th>Limite_Emprestimo</th>\n",
       "    </tr>\n",
       "  </thead>\n",
       "  <tbody>\n",
       "    <tr>\n",
       "      <th>0</th>\n",
       "      <td>1250.219130</td>\n",
       "      <td>2900.124323</td>\n",
       "    </tr>\n",
       "    <tr>\n",
       "      <th>1</th>\n",
       "      <td>1262.721321</td>\n",
       "      <td>2929.125566</td>\n",
       "    </tr>\n",
       "    <tr>\n",
       "      <th>2</th>\n",
       "      <td>1275.348535</td>\n",
       "      <td>2958.416822</td>\n",
       "    </tr>\n",
       "    <tr>\n",
       "      <th>3</th>\n",
       "      <td>1288.102020</td>\n",
       "      <td>2988.000990</td>\n",
       "    </tr>\n",
       "    <tr>\n",
       "      <th>4</th>\n",
       "      <td>1300.983040</td>\n",
       "      <td>3017.881000</td>\n",
       "    </tr>\n",
       "    <tr>\n",
       "      <th>...</th>\n",
       "      <td>...</td>\n",
       "      <td>...</td>\n",
       "    </tr>\n",
       "    <tr>\n",
       "      <th>94</th>\n",
       "      <td>3185.629581</td>\n",
       "      <td>7279.937858</td>\n",
       "    </tr>\n",
       "    <tr>\n",
       "      <th>95</th>\n",
       "      <td>3217.485877</td>\n",
       "      <td>7315.799621</td>\n",
       "    </tr>\n",
       "    <tr>\n",
       "      <th>96</th>\n",
       "      <td>3249.660736</td>\n",
       "      <td>7351.661384</td>\n",
       "    </tr>\n",
       "    <tr>\n",
       "      <th>97</th>\n",
       "      <td>3282.157343</td>\n",
       "      <td>7387.523147</td>\n",
       "    </tr>\n",
       "    <tr>\n",
       "      <th>98</th>\n",
       "      <td>3314.978916</td>\n",
       "      <td>7423.384910</td>\n",
       "    </tr>\n",
       "  </tbody>\n",
       "</table>\n",
       "<p>99 rows × 2 columns</p>\n",
       "</div>"
      ],
      "text/plain": [
       "        Salario  Limite_Emprestimo\n",
       "0   1250.219130        2900.124323\n",
       "1   1262.721321        2929.125566\n",
       "2   1275.348535        2958.416822\n",
       "3   1288.102020        2988.000990\n",
       "4   1300.983040        3017.881000\n",
       "..          ...                ...\n",
       "94  3185.629581        7279.937858\n",
       "95  3217.485877        7315.799621\n",
       "96  3249.660736        7351.661384\n",
       "97  3282.157343        7387.523147\n",
       "98  3314.978916        7423.384910\n",
       "\n",
       "[99 rows x 2 columns]"
      ]
     },
     "execution_count": 6,
     "metadata": {},
     "output_type": "execute_result"
    }
   ],
   "source": [
    "#Importando o arquivo\n",
    "\n",
    "df = pd.read_excel('BaseDados_RegressaoLinear.xlsx', 'Plan1')\n",
    "df"
   ]
  },
  {
   "cell_type": "markdown",
   "id": "6b069f9b",
   "metadata": {},
   "source": [
    "# ANÁLISE EXPLORATÓRIA"
   ]
  },
  {
   "cell_type": "code",
   "execution_count": 7,
   "id": "489688a1",
   "metadata": {},
   "outputs": [
    {
     "data": {
      "text/html": [
       "<div>\n",
       "<style scoped>\n",
       "    .dataframe tbody tr th:only-of-type {\n",
       "        vertical-align: middle;\n",
       "    }\n",
       "\n",
       "    .dataframe tbody tr th {\n",
       "        vertical-align: top;\n",
       "    }\n",
       "\n",
       "    .dataframe thead th {\n",
       "        text-align: right;\n",
       "    }\n",
       "</style>\n",
       "<table border=\"1\" class=\"dataframe\">\n",
       "  <thead>\n",
       "    <tr style=\"text-align: right;\">\n",
       "      <th></th>\n",
       "      <th>Salario</th>\n",
       "      <th>Limite_Emprestimo</th>\n",
       "    </tr>\n",
       "  </thead>\n",
       "  <tbody>\n",
       "    <tr>\n",
       "      <th>0</th>\n",
       "      <td>1250.219130</td>\n",
       "      <td>2900.124323</td>\n",
       "    </tr>\n",
       "    <tr>\n",
       "      <th>1</th>\n",
       "      <td>1262.721321</td>\n",
       "      <td>2929.125566</td>\n",
       "    </tr>\n",
       "    <tr>\n",
       "      <th>2</th>\n",
       "      <td>1275.348535</td>\n",
       "      <td>2958.416822</td>\n",
       "    </tr>\n",
       "    <tr>\n",
       "      <th>3</th>\n",
       "      <td>1288.102020</td>\n",
       "      <td>2988.000990</td>\n",
       "    </tr>\n",
       "    <tr>\n",
       "      <th>4</th>\n",
       "      <td>1300.983040</td>\n",
       "      <td>3017.881000</td>\n",
       "    </tr>\n",
       "  </tbody>\n",
       "</table>\n",
       "</div>"
      ],
      "text/plain": [
       "       Salario  Limite_Emprestimo\n",
       "0  1250.219130        2900.124323\n",
       "1  1262.721321        2929.125566\n",
       "2  1275.348535        2958.416822\n",
       "3  1288.102020        2988.000990\n",
       "4  1300.983040        3017.881000"
      ]
     },
     "execution_count": 7,
     "metadata": {},
     "output_type": "execute_result"
    }
   ],
   "source": [
    "df.head()"
   ]
  },
  {
   "cell_type": "code",
   "execution_count": 8,
   "id": "3dce826f",
   "metadata": {},
   "outputs": [
    {
     "data": {
      "text/html": [
       "<div>\n",
       "<style scoped>\n",
       "    .dataframe tbody tr th:only-of-type {\n",
       "        vertical-align: middle;\n",
       "    }\n",
       "\n",
       "    .dataframe tbody tr th {\n",
       "        vertical-align: top;\n",
       "    }\n",
       "\n",
       "    .dataframe thead th {\n",
       "        text-align: right;\n",
       "    }\n",
       "</style>\n",
       "<table border=\"1\" class=\"dataframe\">\n",
       "  <thead>\n",
       "    <tr style=\"text-align: right;\">\n",
       "      <th></th>\n",
       "      <th>Salario</th>\n",
       "      <th>Limite_Emprestimo</th>\n",
       "    </tr>\n",
       "  </thead>\n",
       "  <tbody>\n",
       "    <tr>\n",
       "      <th>94</th>\n",
       "      <td>3185.629581</td>\n",
       "      <td>7279.937858</td>\n",
       "    </tr>\n",
       "    <tr>\n",
       "      <th>95</th>\n",
       "      <td>3217.485877</td>\n",
       "      <td>7315.799621</td>\n",
       "    </tr>\n",
       "    <tr>\n",
       "      <th>96</th>\n",
       "      <td>3249.660736</td>\n",
       "      <td>7351.661384</td>\n",
       "    </tr>\n",
       "    <tr>\n",
       "      <th>97</th>\n",
       "      <td>3282.157343</td>\n",
       "      <td>7387.523147</td>\n",
       "    </tr>\n",
       "    <tr>\n",
       "      <th>98</th>\n",
       "      <td>3314.978916</td>\n",
       "      <td>7423.384910</td>\n",
       "    </tr>\n",
       "  </tbody>\n",
       "</table>\n",
       "</div>"
      ],
      "text/plain": [
       "        Salario  Limite_Emprestimo\n",
       "94  3185.629581        7279.937858\n",
       "95  3217.485877        7315.799621\n",
       "96  3249.660736        7351.661384\n",
       "97  3282.157343        7387.523147\n",
       "98  3314.978916        7423.384910"
      ]
     },
     "execution_count": 8,
     "metadata": {},
     "output_type": "execute_result"
    }
   ],
   "source": [
    "df.tail()"
   ]
  },
  {
   "cell_type": "code",
   "execution_count": 30,
   "id": "12264df5",
   "metadata": {},
   "outputs": [
    {
     "data": {
      "text/plain": [
       "Index(['Salario', 'Limite_Emprestimo'], dtype='object')"
      ]
     },
     "execution_count": 30,
     "metadata": {},
     "output_type": "execute_result"
    }
   ],
   "source": [
    "df.columns"
   ]
  },
  {
   "cell_type": "code",
   "execution_count": 28,
   "id": "e8c06f77",
   "metadata": {},
   "outputs": [
    {
     "name": "stdout",
     "output_type": "stream",
     "text": [
      "<class 'pandas.core.frame.DataFrame'>\n",
      "RangeIndex: 99 entries, 0 to 98\n",
      "Data columns (total 2 columns):\n",
      " #   Column             Non-Null Count  Dtype  \n",
      "---  ------             --------------  -----  \n",
      " 0   Salario            99 non-null     float64\n",
      " 1   Limite_Emprestimo  99 non-null     float64\n",
      "dtypes: float64(2)\n",
      "memory usage: 1.7 KB\n"
     ]
    }
   ],
   "source": [
    "df.info();"
   ]
  },
  {
   "cell_type": "code",
   "execution_count": 17,
   "id": "8a94f466",
   "metadata": {},
   "outputs": [
    {
     "data": {
      "text/html": [
       "<div>\n",
       "<style scoped>\n",
       "    .dataframe tbody tr th:only-of-type {\n",
       "        vertical-align: middle;\n",
       "    }\n",
       "\n",
       "    .dataframe tbody tr th {\n",
       "        vertical-align: top;\n",
       "    }\n",
       "\n",
       "    .dataframe thead th {\n",
       "        text-align: right;\n",
       "    }\n",
       "</style>\n",
       "<table border=\"1\" class=\"dataframe\">\n",
       "  <thead>\n",
       "    <tr style=\"text-align: right;\">\n",
       "      <th></th>\n",
       "      <th>Salario</th>\n",
       "      <th>Limite_Emprestimo</th>\n",
       "    </tr>\n",
       "  </thead>\n",
       "  <tbody>\n",
       "    <tr>\n",
       "      <th>count</th>\n",
       "      <td>99.000000</td>\n",
       "      <td>99.000000</td>\n",
       "    </tr>\n",
       "    <tr>\n",
       "      <th>mean</th>\n",
       "      <td>2119.100581</td>\n",
       "      <td>4900.652060</td>\n",
       "    </tr>\n",
       "    <tr>\n",
       "      <th>std</th>\n",
       "      <td>600.832983</td>\n",
       "      <td>1378.113961</td>\n",
       "    </tr>\n",
       "    <tr>\n",
       "      <th>min</th>\n",
       "      <td>1250.219130</td>\n",
       "      <td>2900.124323</td>\n",
       "    </tr>\n",
       "    <tr>\n",
       "      <th>25%</th>\n",
       "      <td>1595.383780</td>\n",
       "      <td>3700.800280</td>\n",
       "    </tr>\n",
       "    <tr>\n",
       "      <th>50%</th>\n",
       "      <td>2035.792243</td>\n",
       "      <td>4722.412623</td>\n",
       "    </tr>\n",
       "    <tr>\n",
       "      <th>75%</th>\n",
       "      <td>2597.840528</td>\n",
       "      <td>6026.191986</td>\n",
       "    </tr>\n",
       "    <tr>\n",
       "      <th>max</th>\n",
       "      <td>3314.978916</td>\n",
       "      <td>7423.384910</td>\n",
       "    </tr>\n",
       "  </tbody>\n",
       "</table>\n",
       "</div>"
      ],
      "text/plain": [
       "           Salario  Limite_Emprestimo\n",
       "count    99.000000          99.000000\n",
       "mean   2119.100581        4900.652060\n",
       "std     600.832983        1378.113961\n",
       "min    1250.219130        2900.124323\n",
       "25%    1595.383780        3700.800280\n",
       "50%    2035.792243        4722.412623\n",
       "75%    2597.840528        6026.191986\n",
       "max    3314.978916        7423.384910"
      ]
     },
     "execution_count": 17,
     "metadata": {},
     "output_type": "execute_result"
    }
   ],
   "source": [
    "df.describe()"
   ]
  },
  {
   "cell_type": "code",
   "execution_count": 18,
   "id": "1b9a87d8",
   "metadata": {},
   "outputs": [],
   "source": [
    "#coverter para um Array para melhora no processamento de dados\n",
    "\n",
    "Eixo_x = df.iloc[:,0].values\n",
    "Eixo_y = df.iloc[:,1].values"
   ]
  },
  {
   "cell_type": "code",
   "execution_count": 22,
   "id": "ccf14a6a",
   "metadata": {},
   "outputs": [
    {
     "data": {
      "text/plain": [
       "array([1250.21913   , 1262.7213213 , 1275.34853451, 1288.10201986,\n",
       "       1300.98304006, 1313.99287046, 1327.13279916, 1340.40412715,\n",
       "       1353.80816843, 1367.34625011, 1381.01971261, 1394.82990974,\n",
       "       1408.77820883, 1422.86599092, 1437.09465083, 1451.46559734,\n",
       "       1465.98025331, 1480.64005585, 1495.4464564 , 1510.40092097,\n",
       "       1525.50493018, 1540.75997948, 1556.16757927, 1571.72925507,\n",
       "       1587.44654762, 1603.32101309, 1619.35422323, 1635.54776546,\n",
       "       1651.90324311, 1668.42227554, 1685.1064983 , 1701.95756328,\n",
       "       1718.97713891, 1736.1669103 , 1753.52857941, 1771.0638652 ,\n",
       "       1788.77450385, 1806.66224889, 1824.72887138, 1842.97616009,\n",
       "       1861.4059217 , 1880.01998091, 1898.82018072, 1917.80838253,\n",
       "       1936.98646635, 1956.35633102, 1975.91989433, 1995.67909327,\n",
       "       2015.6358842 , 2035.79224305, 2056.15016548, 2076.71166713,\n",
       "       2097.4787838 , 2118.45357164, 2139.63810736, 2161.03448843,\n",
       "       2182.64483331, 2204.47128165, 2226.51599446, 2248.78115441,\n",
       "       2271.26896595, 2293.98165561, 2316.92147217, 2340.09068689,\n",
       "       2363.49159376, 2387.1265097 , 2410.99777479, 2435.10775254,\n",
       "       2459.45883007, 2484.05341837, 2508.89395255, 2533.98289208,\n",
       "       2559.322721  , 2584.91594821, 2610.76510769, 2636.87275877,\n",
       "       2663.24148635, 2689.87390122, 2716.77264023, 2743.94036663,\n",
       "       2771.3797703 , 2799.093568  , 2827.08450368, 2855.35534872,\n",
       "       2883.90890221, 2912.74799123, 2941.87547114, 2971.29422585,\n",
       "       3001.00716811, 3031.01723979, 3061.32741219, 3091.94068631,\n",
       "       3122.86009317, 3154.08869411, 3185.62958105, 3217.48587686,\n",
       "       3249.66073563, 3282.15734298, 3314.97891641])"
      ]
     },
     "execution_count": 22,
     "metadata": {},
     "output_type": "execute_result"
    }
   ],
   "source": [
    "Eixo_x"
   ]
  },
  {
   "cell_type": "code",
   "execution_count": 34,
   "id": "d3ead025",
   "metadata": {},
   "outputs": [
    {
     "data": {
      "image/png": "[encoded data removed]",
      "text/plain": [
       "<Figure size 720x360 with 1 Axes>"
      ]
     },
     "metadata": {
      "needs_background": "light"
     },
     "output_type": "display_data"
    }
   ],
   "source": [
    "plt.figure(figsize=(10,5))\n",
    "plt.scatter(Eixo_x, Eixo_y)\n",
    "plt.title('Gráfico com 2 Eixos [Salário x Limite]')\n",
    "plt.xlabel('Salário')\n",
    "plt.ylabel('Limite');"
   ]
  },
  {
   "cell_type": "code",
   "execution_count": 36,
   "id": "0bc4770a",
   "metadata": {},
   "outputs": [
    {
     "data": {
      "image/png": "[encoded data removed]",
      "text/plain": [
       "<Figure size 720x360 with 2 Axes>"
      ]
     },
     "metadata": {
      "needs_background": "light"
     },
     "output_type": "display_data"
    }
   ],
   "source": [
    "#Gerando mapa de mapa de calor, para verificar se há valores nulos.\n",
    "\n",
    "plt.figure(figsize=(10,5))\n",
    "sns.heatmap(df.isnull());"
   ]
  },
  {
   "cell_type": "code",
   "execution_count": 43,
   "id": "4114c933",
   "metadata": {},
   "outputs": [
    {
     "data": {
      "text/plain": [
       "<Figure size 720x360 with 0 Axes>"
      ]
     },
     "metadata": {},
     "output_type": "display_data"
    },
    {
     "data": {
      "image/png": "[encoded data removed]",
      "text/plain": [
       "<Figure size 360x360 with 6 Axes>"
      ]
     },
     "metadata": {
      "needs_background": "light"
     },
     "output_type": "display_data"
    }
   ],
   "source": [
    "#Verificando em toda a base de dados, um gráfico de dois eixos, pra todas as  variáveis. É viável para bases com poucas variáveis\n",
    "\n",
    "plt.figure(figsize=(10,5))\n",
    "sns.pairplot(df);"
   ]
  },
  {
   "cell_type": "code",
   "execution_count": 44,
   "id": "ffe4bb11",
   "metadata": {},
   "outputs": [
    {
     "data": {
      "text/plain": [
       "array([[1.        , 0.99949773],\n",
       "       [0.99949773, 1.        ]])"
      ]
     },
     "execution_count": 44,
     "metadata": {},
     "output_type": "execute_result"
    }
   ],
   "source": [
    "#Correlação dos Dados (Eixo_X = Salário, Eixo_y = Limite)\n",
    "\n",
    "Correlacao = np.corrcoef(Eixo_x, Eixo_y)\n",
    "Correlacao"
   ]
  },
  {
   "cell_type": "code",
   "execution_count": 46,
   "id": "48a4abef",
   "metadata": {},
   "outputs": [
    {
     "data": {
      "image/png": "[encoded data removed]",
      "text/plain": [
       "<Figure size 720x360 with 2 Axes>"
      ]
     },
     "metadata": {
      "needs_background": "light"
     },
     "output_type": "display_data"
    }
   ],
   "source": [
    "#Correlação dos Dados. O parâmetro annot = True, insere o valor (arredondado) no meio do quadro. \n",
    "\n",
    "plt.figure(figsize=(10,5))\n",
    "sns.heatmap(Correlacao, annot=True);"
   ]
  },
  {
   "cell_type": "markdown",
   "id": "66511e65",
   "metadata": {},
   "source": [
    "# Separando os dados em Treino e Teste"
   ]
  },
  {
   "cell_type": "code",
   "execution_count": 49,
   "id": "7bb15c3d",
   "metadata": {},
   "outputs": [],
   "source": [
    "#Convertendo os dados pro formado de Matriz\n",
    "\n",
    "Eixo_x = Eixo_x.reshape(-1, 1)\n",
    "Eixo_y = Eixo_y.reshape(-1, 1)"
   ]
  },
  {
   "cell_type": "code",
   "execution_count": 50,
   "id": "d53b711e",
   "metadata": {},
   "outputs": [
    {
     "data": {
      "text/plain": [
       "array([[1250.21913   ],\n",
       "       [1262.7213213 ],\n",
       "       [1275.34853451],\n",
       "       [1288.10201986],\n",
       "       [1300.98304006],\n",
       "       [1313.99287046],\n",
       "       [1327.13279916],\n",
       "       [1340.40412715],\n",
       "       [1353.80816843],\n",
       "       [1367.34625011],\n",
       "       [1381.01971261],\n",
       "       [1394.82990974],\n",
       "       [1408.77820883],\n",
       "       [1422.86599092],\n",
       "       [1437.09465083],\n",
       "       [1451.46559734],\n",
       "       [1465.98025331],\n",
       "       [1480.64005585],\n",
       "       [1495.4464564 ],\n",
       "       [1510.40092097],\n",
       "       [1525.50493018],\n",
       "       [1540.75997948],\n",
       "       [1556.16757927],\n",
       "       [1571.72925507],\n",
       "       [1587.44654762],\n",
       "       [1603.32101309],\n",
       "       [1619.35422323],\n",
       "       [1635.54776546],\n",
       "       [1651.90324311],\n",
       "       [1668.42227554],\n",
       "       [1685.1064983 ],\n",
       "       [1701.95756328],\n",
       "       [1718.97713891],\n",
       "       [1736.1669103 ],\n",
       "       [1753.52857941],\n",
       "       [1771.0638652 ],\n",
       "       [1788.77450385],\n",
       "       [1806.66224889],\n",
       "       [1824.72887138],\n",
       "       [1842.97616009],\n",
       "       [1861.4059217 ],\n",
       "       [1880.01998091],\n",
       "       [1898.82018072],\n",
       "       [1917.80838253],\n",
       "       [1936.98646635],\n",
       "       [1956.35633102],\n",
       "       [1975.91989433],\n",
       "       [1995.67909327],\n",
       "       [2015.6358842 ],\n",
       "       [2035.79224305],\n",
       "       [2056.15016548],\n",
       "       [2076.71166713],\n",
       "       [2097.4787838 ],\n",
       "       [2118.45357164],\n",
       "       [2139.63810736],\n",
       "       [2161.03448843],\n",
       "       [2182.64483331],\n",
       "       [2204.47128165],\n",
       "       [2226.51599446],\n",
       "       [2248.78115441],\n",
       "       [2271.26896595],\n",
       "       [2293.98165561],\n",
       "       [2316.92147217],\n",
       "       [2340.09068689],\n",
       "       [2363.49159376],\n",
       "       [2387.1265097 ],\n",
       "       [2410.99777479],\n",
       "       [2435.10775254],\n",
       "       [2459.45883007],\n",
       "       [2484.05341837],\n",
       "       [2508.89395255],\n",
       "       [2533.98289208],\n",
       "       [2559.322721  ],\n",
       "       [2584.91594821],\n",
       "       [2610.76510769],\n",
       "       [2636.87275877],\n",
       "       [2663.24148635],\n",
       "       [2689.87390122],\n",
       "       [2716.77264023],\n",
       "       [2743.94036663],\n",
       "       [2771.3797703 ],\n",
       "       [2799.093568  ],\n",
       "       [2827.08450368],\n",
       "       [2855.35534872],\n",
       "       [2883.90890221],\n",
       "       [2912.74799123],\n",
       "       [2941.87547114],\n",
       "       [2971.29422585],\n",
       "       [3001.00716811],\n",
       "       [3031.01723979],\n",
       "       [3061.32741219],\n",
       "       [3091.94068631],\n",
       "       [3122.86009317],\n",
       "       [3154.08869411],\n",
       "       [3185.62958105],\n",
       "       [3217.48587686],\n",
       "       [3249.66073563],\n",
       "       [3282.15734298],\n",
       "       [3314.97891641]])"
      ]
     },
     "execution_count": 50,
     "metadata": {},
     "output_type": "execute_result"
    }
   ],
   "source": [
    "Eixo_x"
   ]
  },
  {
   "cell_type": "code",
   "execution_count": 51,
   "id": "223074d0",
   "metadata": {},
   "outputs": [],
   "source": [
    "#Importando função para divisão de dados da biblioteca sklearn\n",
    "\n",
    "from sklearn.model_selection import train_test_split"
   ]
  },
  {
   "cell_type": "code",
   "execution_count": 67,
   "id": "e744c4cf",
   "metadata": {},
   "outputs": [],
   "source": [
    "x_treinamento, x_teste, y_treinamento, y_teste = train_test_split (Eixo_x, Eixo_y, test_size=0.20)"
   ]
  },
  {
   "cell_type": "code",
   "execution_count": 72,
   "id": "eac92523",
   "metadata": {},
   "outputs": [
    {
     "name": "stdout",
     "output_type": "stream",
     "text": [
      "79 20\n"
     ]
    }
   ],
   "source": [
    "print(len(x_treinamento), len (x_teste))"
   ]
  },
  {
   "cell_type": "code",
   "execution_count": 73,
   "id": "138285d9",
   "metadata": {},
   "outputs": [
    {
     "name": "stdout",
     "output_type": "stream",
     "text": [
      "79 20\n"
     ]
    }
   ],
   "source": [
    "print(len(y_treinamento), len (y_teste))"
   ]
  },
  {
   "cell_type": "markdown",
   "id": "ec942c99",
   "metadata": {},
   "source": [
    "# Treinando o Modelo"
   ]
  },
  {
   "cell_type": "code",
   "execution_count": 75,
   "id": "abcab9e0",
   "metadata": {},
   "outputs": [],
   "source": [
    "#Importando a função Linear Regression do sklearn\n",
    "\n",
    "from sklearn.linear_model import LinearRegression"
   ]
  },
  {
   "cell_type": "code",
   "execution_count": 76,
   "id": "d2ea20c6",
   "metadata": {},
   "outputs": [],
   "source": [
    "funcao_regressao = LinearRegression()"
   ]
  },
  {
   "cell_type": "code",
   "execution_count": 77,
   "id": "5e93bbb8",
   "metadata": {},
   "outputs": [
    {
     "data": {
      "text/plain": [
       "LinearRegression()"
      ]
     },
     "execution_count": 77,
     "metadata": {},
     "output_type": "execute_result"
    }
   ],
   "source": [
    "#A funcao .fit aplica os cálculos estatísticos de Regressao Linear nos nossos dados de terino (salário e limite) para nosso modelo de ML\n",
    "\n",
    "funcao_regressao.fit (x_treinamento, y_treinamento)"
   ]
  },
  {
   "cell_type": "markdown",
   "id": "a6faeeaa",
   "metadata": {},
   "source": [
    "# Avaliação do Desempenho e Análise do Modelo"
   ]
  },
  {
   "cell_type": "code",
   "execution_count": 78,
   "id": "5c67c0d6",
   "metadata": {},
   "outputs": [
    {
     "data": {
      "text/plain": [
       "0.9991642915777869"
      ]
     },
     "execution_count": 78,
     "metadata": {},
     "output_type": "execute_result"
    }
   ],
   "source": [
    "#Cálculo do score\n",
    "\n",
    "funcao_regressao.score(x_treinamento, y_treinamento)"
   ]
  },
  {
   "cell_type": "code",
   "execution_count": 79,
   "id": "44506750",
   "metadata": {},
   "outputs": [
    {
     "data": {
      "image/png": "[encoded data removed]",
      "text/plain": [
       "<Figure size 720x360 with 1 Axes>"
      ]
     },
     "metadata": {
      "needs_background": "light"
     },
     "output_type": "display_data"
    }
   ],
   "source": [
    "#Visualização gráfica do resultado do modelo e a comparação com dados de teste x predict\n",
    "\n",
    "plt.figure(figsize=(10,5))\n",
    "plt.scatter(x_treinamento, y_treinamento)\n",
    "plt.plot(x_teste, funcao_regressao.predict(x_teste), color = 'red');"
   ]
  },
  {
   "cell_type": "code",
   "execution_count": 84,
   "id": "192e4d7e",
   "metadata": {},
   "outputs": [],
   "source": [
    "#Importando metricas para avaliação do modelo \n",
    "\n",
    "from sklearn import metrics\n"
   ]
  },
  {
   "cell_type": "code",
   "execution_count": 85,
   "id": "6e6518d2",
   "metadata": {},
   "outputs": [
    {
     "data": {
      "text/plain": [
       "array([[5520.02818709],\n",
       "       [5800.06164118],\n",
       "       [6094.3796158 ],\n",
       "       [7356.37760803],\n",
       "       [2963.22795151],\n",
       "       [3905.56471453],\n",
       "       [3206.24418234],\n",
       "       [3680.97222351],\n",
       "       [3944.31778204],\n",
       "       [3609.03873012],\n",
       "       [3401.63133277],\n",
       "       [3112.83889749],\n",
       "       [5305.81924413],\n",
       "       [4022.99038437],\n",
       "       [3754.35158012],\n",
       "       [7653.84744329],\n",
       "       [6728.82091172],\n",
       "       [4062.91770857],\n",
       "       [3573.6052572 ],\n",
       "       [5358.57485693]])"
      ]
     },
     "execution_count": 85,
     "metadata": {},
     "output_type": "execute_result"
    }
   ],
   "source": [
    "# Cria a variável previsoes e atribui valores de previsão (limite) com base nos dados de x_teste (Salário)\n",
    "\n",
    "previsoes = funcao_regressao.predict(x_teste)\n",
    "previsoes"
   ]
  },
  {
   "cell_type": "code",
   "execution_count": 86,
   "id": "087e5796",
   "metadata": {},
   "outputs": [
    {
     "name": "stdout",
     "output_type": "stream",
     "text": [
      "RMSE 58.41755252267598\n"
     ]
    }
   ],
   "source": [
    "# Verificação da Raíz quadrada do erro quadrático médio RMSE. \n",
    "# Essa métrica avalia, na média, o quanto o modelo erra ao fazer uma previsão.\n",
    "# Para um RMSE de 58,41755, entende-se que o modeço erra, ao definir o limite, uma variação desse valor. \n",
    "\n",
    "print ('RMSE', np.sqrt(metrics.mean_squared_error(y_teste, previsoes)))"
   ]
  },
  {
   "cell_type": "code",
   "execution_count": 87,
   "id": "09fc8d8b",
   "metadata": {},
   "outputs": [
    {
     "data": {
      "text/plain": [
       "array([[5537.40019388],\n",
       "       [5819.86325519],\n",
       "       [6116.73477141],\n",
       "       [7279.93785816],\n",
       "       [2958.41682189],\n",
       "       [3870.22715157],\n",
       "       [3203.54149363],\n",
       "       [3682.38833796],\n",
       "       [3870.22715157],\n",
       "       [3609.83074009],\n",
       "       [3400.62384877],\n",
       "       [3109.32581219],\n",
       "       [5321.33274585],\n",
       "       [4027.37389354],\n",
       "       [3756.40434356],\n",
       "       [7423.38490956],\n",
       "       [6756.68056377],\n",
       "       [4067.64763247],\n",
       "       [3574.08984167],\n",
       "       [5374.54607331]])"
      ]
     },
     "execution_count": 87,
     "metadata": {},
     "output_type": "execute_result"
    }
   ],
   "source": [
    "y_teste"
   ]
  },
  {
   "cell_type": "markdown",
   "id": "f80316ca",
   "metadata": {},
   "source": [
    "# Fazendo previsões"
   ]
  },
  {
   "cell_type": "code",
   "execution_count": 88,
   "id": "80c602ee",
   "metadata": {
    "scrolled": false
   },
   "outputs": [
    {
     "name": "stdout",
     "output_type": "stream",
     "text": [
      "[[2329.99792391]]\n"
     ]
    }
   ],
   "source": [
    "#Printando o valor da previsão para um salário 1000\n",
    "\n",
    "print (funcao_regressao.predict([[1000]]))"
   ]
  },
  {
   "cell_type": "code",
   "execution_count": 106,
   "id": "5167ef75",
   "metadata": {},
   "outputs": [
    {
     "name": "stdout",
     "output_type": "stream",
     "text": [
      "Por favor, informe o salário para saber o limite recomendado: 1000\n",
      "O limite recomendado é:  [[2329.99792391]]\n"
     ]
    },
    {
     "name": "stderr",
     "output_type": "stream",
     "text": [
      "C:\\Users\\leonardo\\anaconda3\\lib\\site-packages\\sklearn\\utils\\validation.py:63: FutureWarning: Arrays of bytes/strings is being converted to decimal numbers if dtype='numeric'. This behavior is deprecated in 0.24 and will be removed in 1.1 (renaming of 0.26). Please convert your data to numeric values explicitly instead.\n",
      "  return f(*args, **kwargs)\n"
     ]
    }
   ],
   "source": [
    "# Solicita o input do usuário (salário) e retorna a mensagem com o limite recomendado/sugerido \n",
    "\n",
    "salar = input('Por favor, informe o salário para saber o limite recomendado: ')\n",
    "print('O limite recomendado é: ', funcao_regressao.predict([[salar]]));"
   ]
  },
  {
   "cell_type": "markdown",
   "id": "de7c794b",
   "metadata": {},
   "source": [
    "### Realizando previsões para uma base fictícia"
   ]
  },
  {
   "cell_type": "code",
   "execution_count": 123,
   "id": "62dc386e",
   "metadata": {
    "scrolled": true
   },
   "outputs": [
    {
     "data": {
      "text/html": [
       "<div>\n",
       "<style scoped>\n",
       "    .dataframe tbody tr th:only-of-type {\n",
       "        vertical-align: middle;\n",
       "    }\n",
       "\n",
       "    .dataframe tbody tr th {\n",
       "        vertical-align: top;\n",
       "    }\n",
       "\n",
       "    .dataframe thead th {\n",
       "        text-align: right;\n",
       "    }\n",
       "</style>\n",
       "<table border=\"1\" class=\"dataframe\">\n",
       "  <thead>\n",
       "    <tr style=\"text-align: right;\">\n",
       "      <th></th>\n",
       "      <th>Salário</th>\n",
       "    </tr>\n",
       "  </thead>\n",
       "  <tbody>\n",
       "    <tr>\n",
       "      <th>0</th>\n",
       "      <td>5520.032205</td>\n",
       "    </tr>\n",
       "    <tr>\n",
       "      <th>1</th>\n",
       "      <td>5294.449881</td>\n",
       "    </tr>\n",
       "    <tr>\n",
       "      <th>2</th>\n",
       "      <td>9801.330169</td>\n",
       "    </tr>\n",
       "    <tr>\n",
       "      <th>3</th>\n",
       "      <td>6498.973461</td>\n",
       "    </tr>\n",
       "    <tr>\n",
       "      <th>4</th>\n",
       "      <td>2218.306195</td>\n",
       "    </tr>\n",
       "  </tbody>\n",
       "</table>\n",
       "</div>"
      ],
      "text/plain": [
       "       Salário\n",
       "0  5520.032205\n",
       "1  5294.449881\n",
       "2  9801.330169\n",
       "3  6498.973461\n",
       "4  2218.306195"
      ]
     },
     "execution_count": 123,
     "metadata": {},
     "output_type": "execute_result"
    }
   ],
   "source": [
    "# Carrega a nvoa base\n",
    "\n",
    "df_novas=pd.read_excel('BaseDados_DadosNovos.xlsx', 'Plan1')\n",
    "\n",
    "df_novas.head()"
   ]
  },
  {
   "cell_type": "code",
   "execution_count": 124,
   "id": "8e97dfa2",
   "metadata": {},
   "outputs": [],
   "source": [
    "# Cria a variável prever, atribuindo o novo DF\n",
    "# Após, transforma em matriz\n",
    "# Após, cria a coluna 'Limite Sugerido' e para cada valor da coluna Salário, realiza a previsão do limite e inseri no DF\n",
    "\n",
    "prever = df_novas.iloc[:, 0].values\n",
    "prever = prever.reshape(-1,1)\n",
    "\n",
    "df_novas['Limite Sugerido'] = funcao_regressao.predict(prever)"
   ]
  },
  {
   "cell_type": "code",
   "execution_count": 127,
   "id": "a190de53",
   "metadata": {},
   "outputs": [
    {
     "data": {
      "text/html": [
       "<div>\n",
       "<style scoped>\n",
       "    .dataframe tbody tr th:only-of-type {\n",
       "        vertical-align: middle;\n",
       "    }\n",
       "\n",
       "    .dataframe tbody tr th {\n",
       "        vertical-align: top;\n",
       "    }\n",
       "\n",
       "    .dataframe thead th {\n",
       "        text-align: right;\n",
       "    }\n",
       "</style>\n",
       "<table border=\"1\" class=\"dataframe\">\n",
       "  <thead>\n",
       "    <tr style=\"text-align: right;\">\n",
       "      <th></th>\n",
       "      <th>Salário</th>\n",
       "      <th>Limite Sugerido</th>\n",
       "    </tr>\n",
       "  </thead>\n",
       "  <tbody>\n",
       "    <tr>\n",
       "      <th>0</th>\n",
       "      <td>5520.032205</td>\n",
       "      <td>12724.896603</td>\n",
       "    </tr>\n",
       "    <tr>\n",
       "      <th>1</th>\n",
       "      <td>5294.449881</td>\n",
       "      <td>12206.115920</td>\n",
       "    </tr>\n",
       "    <tr>\n",
       "      <th>2</th>\n",
       "      <td>9801.330169</td>\n",
       "      <td>22570.768611</td>\n",
       "    </tr>\n",
       "    <tr>\n",
       "      <th>3</th>\n",
       "      <td>6498.973461</td>\n",
       "      <td>14976.206928</td>\n",
       "    </tr>\n",
       "    <tr>\n",
       "      <th>4</th>\n",
       "      <td>2218.306195</td>\n",
       "      <td>5131.785364</td>\n",
       "    </tr>\n",
       "    <tr>\n",
       "      <th>...</th>\n",
       "      <td>...</td>\n",
       "      <td>...</td>\n",
       "    </tr>\n",
       "    <tr>\n",
       "      <th>94</th>\n",
       "      <td>5881.240099</td>\n",
       "      <td>13555.580830</td>\n",
       "    </tr>\n",
       "    <tr>\n",
       "      <th>95</th>\n",
       "      <td>3372.672431</td>\n",
       "      <td>7786.527524</td>\n",
       "    </tr>\n",
       "    <tr>\n",
       "      <th>96</th>\n",
       "      <td>6015.841278</td>\n",
       "      <td>13865.128541</td>\n",
       "    </tr>\n",
       "    <tr>\n",
       "      <th>97</th>\n",
       "      <td>4681.178795</td>\n",
       "      <td>10795.751897</td>\n",
       "    </tr>\n",
       "    <tr>\n",
       "      <th>98</th>\n",
       "      <td>6099.214068</td>\n",
       "      <td>14056.864277</td>\n",
       "    </tr>\n",
       "  </tbody>\n",
       "</table>\n",
       "<p>99 rows × 2 columns</p>\n",
       "</div>"
      ],
      "text/plain": [
       "        Salário  Limite Sugerido\n",
       "0   5520.032205     12724.896603\n",
       "1   5294.449881     12206.115920\n",
       "2   9801.330169     22570.768611\n",
       "3   6498.973461     14976.206928\n",
       "4   2218.306195      5131.785364\n",
       "..          ...              ...\n",
       "94  5881.240099     13555.580830\n",
       "95  3372.672431      7786.527524\n",
       "96  6015.841278     13865.128541\n",
       "97  4681.178795     10795.751897\n",
       "98  6099.214068     14056.864277\n",
       "\n",
       "[99 rows x 2 columns]"
      ]
     },
     "execution_count": 127,
     "metadata": {},
     "output_type": "execute_result"
    }
   ],
   "source": [
    "#Resultados das previsões\n",
    "\n",
    "df_novas"
   ]
  }
 ],
 "metadata": {
  "kernelspec": {
   "display_name": "Python 3 (ipykernel)",
   "language": "python",
   "name": "python3"
  },
  "language_info": {
   "codemirror_mode": {
    "name": "ipython",
    "version": 3
   },
   "file_extension": ".py",
   "mimetype": "text/x-python",
   "name": "python",
   "nbconvert_exporter": "python",
   "pygments_lexer": "ipython3",
   "version": "3.9.7"
  }
 },
 "nbformat": 4,
 "nbformat_minor": 5
}
