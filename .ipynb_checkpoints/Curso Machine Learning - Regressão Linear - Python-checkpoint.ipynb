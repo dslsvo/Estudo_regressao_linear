{
 "cells": [
  {
   "cell_type": "markdown",
   "id": "88af1b7f",
   "metadata": {},
   "source": [
    "# Regressão Linear\n",
    "#### Exercício Reprodução do canal Data Viking"
   ]
  }
 ],
 "metadata": {
  "kernelspec": {
   "display_name": "Python 3 (ipykernel)",
   "language": "python",
   "name": "python3"
  },
  "language_info": {
   "codemirror_mode": {
    "name": "ipython",
    "version": 3
   },
   "file_extension": ".py",
   "mimetype": "text/x-python",
   "name": "python",
   "nbconvert_exporter": "python",
   "pygments_lexer": "ipython3",
   "version": "3.9.7"
  }
 },
 "nbformat": 4,
 "nbformat_minor": 5
}
